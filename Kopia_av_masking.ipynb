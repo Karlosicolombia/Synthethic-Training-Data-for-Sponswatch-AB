{
  "nbformat": 4,
  "nbformat_minor": 0,
  "metadata": {
    "colab": {
      "provenance": [],
      "include_colab_link": true
    },
    "kernelspec": {
      "name": "python3",
      "display_name": "Python 3"
    },
    "language_info": {
      "name": "python"
    }
  },
  "cells": [
    {
      "cell_type": "markdown",
      "metadata": {
        "id": "view-in-github",
        "colab_type": "text"
      },
      "source": [
        "<a href=\"https://colab.research.google.com/github/Karlosicolombia/Synthethic-Training-Data-for-Sponswatch-AB/blob/main/Kopia_av_masking.ipynb\" target=\"_parent\"><img src=\"https://colab.research.google.com/assets/colab-badge.svg\" alt=\"Open In Colab\"/></a>"
      ]
    },
    {
      "cell_type": "code",
      "execution_count": 89,
      "metadata": {
        "id": "AWYCUXiXB3oj",
        "outputId": "bf9e5879-1522-4260-cd87-a074008072c9",
        "colab": {
          "base_uri": "https://localhost:8080/"
        }
      },
      "outputs": [
        {
          "output_type": "stream",
          "name": "stdout",
          "text": [
            "Looking in indexes: https://pypi.org/simple, https://us-python.pkg.dev/colab-wheels/public/simple/\n",
            "Requirement already satisfied: pillow in /usr/local/lib/python3.9/dist-packages (9.4.0)\n",
            "Looking in indexes: https://pypi.org/simple, https://us-python.pkg.dev/colab-wheels/public/simple/\n",
            "Requirement already satisfied: Pillow in /usr/local/lib/python3.9/dist-packages (9.4.0)\n"
          ]
        }
      ],
      "source": [
        "import cv2\n",
        "import numpy as np\n",
        "from google.colab.patches import cv2_imshow\n",
        "import pygame\n",
        "\n",
        "!pip install pillow\n",
        "!pip install --upgrade Pillow"
      ]
    },
    {
      "cell_type": "code",
      "source": [
        "\n",
        "import PIL\n",
        "from PIL import Image as img\n",
        "\n"
      ],
      "metadata": {
        "id": "AgdByYwQMs6i"
      },
      "execution_count": 90,
      "outputs": []
    },
    {
      "cell_type": "code",
      "source": [
        "from google.colab import drive\n",
        "drive.mount('/content/drive')\n",
        "\n",
        "directory ='/content/drive/MyDrive/adidas'"
      ],
      "metadata": {
        "colab": {
          "base_uri": "https://localhost:8080/"
        },
        "id": "oJ_G3W28Df_Y",
        "outputId": "a3999a23-a511-4452-e681-0ee095f64cec"
      },
      "execution_count": 91,
      "outputs": [
        {
          "output_type": "stream",
          "name": "stdout",
          "text": [
            "Drive already mounted at /content/drive; to attempt to forcibly remount, call drive.mount(\"/content/drive\", force_remount=True).\n"
          ]
        }
      ]
    },
    {
      "cell_type": "code",
      "source": [
        "from google.colab.patches import cv2_imshow\n",
        "\n",
        "img = cv2.imread(r'/content/drive/MyDrive/Examensarbete/adidaslogo2vit.png',cv2.IMREAD_UNCHANGED)\n",
        "#cv2_imshow(img)\n",
        "a = img.shape\n",
        "print(a)"
      ],
      "metadata": {
        "id": "HsdufYDNDDjt",
        "colab": {
          "base_uri": "https://localhost:8080/"
        },
        "outputId": "1b72adfa-439d-46ee-94c6-036a512d2d0c"
      },
      "execution_count": 92,
      "outputs": [
        {
          "output_type": "stream",
          "name": "stdout",
          "text": [
            "(863, 1280, 4)\n"
          ]
        }
      ]
    },
    {
      "cell_type": "code",
      "source": [
        "kernel = np.ones((5, 5), np.uint8)\n",
        "hsv = cv2.cvtColor(img, cv2.COLOR_BGR2HSV)"
      ],
      "metadata": {
        "id": "WTk_YhUKFPPX"
      },
      "execution_count": 93,
      "outputs": []
    },
    {
      "cell_type": "code",
      "source": [
        "Lower_hsv = np.array([51, 120, 0])\n",
        "Upper_hsv = np.array([255, 255, 255])"
      ],
      "metadata": {
        "id": "cgG52vKEFhJ6"
      },
      "execution_count": 94,
      "outputs": []
    },
    {
      "cell_type": "code",
      "source": [
        "# creating the mask by eroding,morphing,\n",
        "# dilating process\n",
        "Mask = cv2.inRange(hsv, Lower_hsv, Upper_hsv)\n",
        "Mask = cv2.erode(Mask, kernel, iterations=1)\n",
        "Mask = cv2.morphologyEx(Mask, cv2.MORPH_OPEN, kernel)\n",
        "Mask = cv2.dilate(Mask, kernel, iterations=1)"
      ],
      "metadata": {
        "id": "xsvSbXPJF4jT"
      },
      "execution_count": 95,
      "outputs": []
    },
    {
      "cell_type": "code",
      "source": [
        "Mask = cv2.bitwise_not(Mask)"
      ],
      "metadata": {
        "id": "FDGVf0qjF63t"
      },
      "execution_count": 96,
      "outputs": []
    },
    {
      "cell_type": "code",
      "source": [
        "# Displaying the image\n",
        "#cv2_imshow(Mask)"
      ],
      "metadata": {
        "id": "MH1M_o0ZF_4K"
      },
      "execution_count": 97,
      "outputs": []
    },
    {
      "cell_type": "code",
      "source": [
        "# waits for user to press any key\n",
        "# (this is necessary to avoid Python \n",
        "# kernel form crashing)\n",
        "cv2.waitKey(0)"
      ],
      "metadata": {
        "colab": {
          "base_uri": "https://localhost:8080/"
        },
        "id": "neV_FnQMGEMh",
        "outputId": "f7212f8f-bb1a-4f93-d6e5-f4c206e24d2d"
      },
      "execution_count": 98,
      "outputs": [
        {
          "output_type": "execute_result",
          "data": {
            "text/plain": [
              "-1"
            ]
          },
          "metadata": {},
          "execution_count": 98
        }
      ]
    },
    {
      "cell_type": "code",
      "source": [
        "# closing all open windows\n",
        "cv2.destroyAllWindows()"
      ],
      "metadata": {
        "id": "s5k3pRwzGEpv"
      },
      "execution_count": 99,
      "outputs": []
    },
    {
      "cell_type": "code",
      "source": [
        "def flip(img):\n",
        "  rand = np.random.uniform(0,1)\n",
        "  image = img\n",
        "  if rand > 0.5:\n",
        "    image = cv2.flip(img, 0)\n",
        "    return image\n",
        "  else:\n",
        "    image = img\n",
        "    return image\n",
        "\n",
        "#Mask = augmentationflip(Mask, True)\n",
        "#cv2_imshow(Mask)\n",
        "\n",
        "\n"
      ],
      "metadata": {
        "id": "zIANNdzBOltp"
      },
      "execution_count": 100,
      "outputs": []
    },
    {
      "cell_type": "code",
      "source": [
        "import numpy as np\n",
        "def rotation(img,rotation):\n",
        "  rotation = int(np.random.uniform(-rotation,rotation))\n",
        "  h,w = img.shape[:2]\n",
        "\n",
        "  matrix = cv2.getRotationMatrix2D((int(w/2),int(h/2)),rotation,0.4 )\n",
        "  image = cv2.warpAffine(img, matrix, (img.shape[1],img.shape[0]))\n",
        "  return image\n",
        "\n",
        "#rotated = rotation(Mask,180)\n",
        "#cv2_imshow(rotated) \n",
        "\n"
      ],
      "metadata": {
        "id": "xwHjFe60QtTT"
      },
      "execution_count": 101,
      "outputs": []
    },
    {
      "cell_type": "code",
      "source": [
        "def randomblur(img):\n",
        "  Kx = (np.random.randint(0,15))\n",
        "  Ky = Kx \n",
        "  if Kx > 0:\n",
        "    kernel = (Kx,Ky)\n",
        "    image = cv2.blur(img,kernel)\n",
        "    return image\n",
        "  else: \n",
        "    image = img\n",
        "    return image\n",
        "\n",
        "\n"
      ],
      "metadata": {
        "id": "V4lk0UhEVFUT"
      },
      "execution_count": 102,
      "outputs": []
    },
    {
      "cell_type": "code",
      "source": [
        "def crop(img):\n",
        "  scaleW = np.random.uniform(0.3,1.5)\n",
        "  scaleH = np.random.uniform(0.3,1.5)\n",
        "  \n",
        "  image = cv2.resize(img, (int(img.shape[1]*scaleW),int(img.shape[0]*scaleH)), interpolation = cv2.INTER_AREA)\n",
        "  return image\n",
        "\n",
        "\n",
        "\n",
        "\n",
        "\n"
      ],
      "metadata": {
        "id": "aMvlph5DlGkV"
      },
      "execution_count": 103,
      "outputs": []
    },
    {
      "cell_type": "code",
      "source": [
        "from PIL import Image as img\n",
        "import os\n",
        "import random\n",
        "\n",
        "def generatecomposite(SizeDataset): #10-15s per bild, kika in mahotas också eller blit med filip\n",
        "  \n",
        "  \n",
        "  for i in range(SizeDataset):\n",
        "    os.chdir(r'/content/drive/MyDrive/Examensarbete/train')\n",
        "    \n",
        "    with img.open(random.choice(os.listdir(r'/content/drive/MyDrive/Examensarbete/train'))) as image:\n",
        "      \n",
        "      image.load()\n",
        "      print(image.size)\n",
        "      randomh = int((image.size[1]*0.8) + (image.size[1])*np.random.uniform(-0.8,0))\n",
        "      randomw = int((image.size[0]*0.5) + (image.size[0]/2)*np.random.uniform(-1,0.1))\n",
        "      \n",
        "      print(randomw,randomh)\n",
        "      os.chdir(r'/content/drive/MyDrive/Examensarbete/Dataset')\n",
        "    with img.open(random.choice(os.listdir(r'/content/drive/MyDrive/Examensarbete/Dataset'))) as overlay:\n",
        "      overlay.load()\n",
        "      image.paste(overlay, (randomw,randomh),overlay)\n",
        "      os.chdir(r'/content/drive/MyDrive/Examensarbete/Synthetic Data')\n",
        "      image = image.save('synthethic_image_' + str(i)+'.jpeg')\n",
        "  return\n",
        "\n",
        "\n",
        "\n",
        "generatecomposite(20)\n",
        "\n",
        "\n"
      ],
      "metadata": {
        "colab": {
          "base_uri": "https://localhost:8080/"
        },
        "id": "-WhTRhKEwVZ-",
        "outputId": "a4a4439d-de02-4464-b698-b223d21e9e5f"
      },
      "execution_count": 131,
      "outputs": [
        {
          "output_type": "stream",
          "name": "stdout",
          "text": [
            "(1620, 1080)\n",
            "205 495\n",
            "(1620, 1080)\n",
            "335 219\n",
            "(1620, 1080)\n",
            "241 841\n",
            "(1080, 1130)\n",
            "504 672\n",
            "(1619, 1080)\n",
            "711 801\n",
            "(1620, 1080)\n",
            "352 664\n",
            "(1675, 1080)\n",
            "567 725\n",
            "(1080, 1349)\n",
            "166 109\n",
            "(1710, 1080)\n",
            "331 724\n",
            "(1620, 1080)\n",
            "337 649\n",
            "(1660, 1080)\n",
            "776 307\n",
            "(1374, 1080)\n",
            "692 664\n",
            "(1620, 1080)\n",
            "742 657\n",
            "(1620, 1080)\n",
            "770 397\n",
            "(1080, 1440)\n",
            "492 650\n",
            "(1620, 1080)\n",
            "749 773\n",
            "(1919, 1080)\n",
            "1036 852\n",
            "(1620, 1080)\n",
            "840 777\n",
            "(1620, 1080)\n",
            "220 379\n",
            "(2587, 1080)\n",
            "1334 362\n"
          ]
        }
      ]
    },
    {
      "cell_type": "code",
      "source": [
        "import numpy as np\n",
        "def saturation_image(img):\n",
        "    version = np.random.randint(0,4)\n",
        "    saturation = int(np.random.uniform(0,130))\n",
        "    \n",
        "    print(version)\n",
        "    print(saturation)\n",
        "    version = 1\n",
        "\n",
        "    if version == 0:\n",
        "      image = img\n",
        "      return image\n",
        "    if version == 1:\n",
        "      \n",
        "      return image\n",
        "\n",
        "    if version == 2:\n",
        "      image = img[:,saturation,:]\n",
        "      image = cv2.cvtColor(image,cv2.COLOR_BGR2BGRA)\n",
        "      return image\n",
        "    if version == 3:\n",
        "      image = img[:,:,saturation]\n",
        "      image = cv2.cvtColor(image,cv2.COLOR_BGR2BGRA)\n",
        "      return image\n",
        "    \n",
        "#img = cv2.imread(r'/content/drive/MyDrive/Examensarbete/adidaslogo2vit.png',cv2.IMREAD_UNCHANGED)\n",
        "#img = saturation_image(img)   \n",
        "#cv2_imshow(img)\n",
        "#cv2.waitKey(0)"
      ],
      "metadata": {
        "id": "JWSMkicWaUBe"
      },
      "execution_count": 104,
      "outputs": []
    },
    {
      "cell_type": "code",
      "source": [
        "def cutout(img):\n",
        "  threshold = np.random.uniform(0,1)\n",
        "  if threshold > 0.1:\n",
        "    \n",
        "    endpoint = np.random.uniform(-2,2)\n",
        "\n",
        "    \n",
        "    widthS = int(img.shape[1]/2)\n",
        "    heightS = int(img.shape[0]/2)\n",
        "\n",
        "\n",
        "    widthE = int(img.shape[1]*endpoint)\n",
        "    heightE = int(img.shape[0]*endpoint)\n",
        "\n",
        "    image = cv2.rectangle(img, (widthS, heightS), (widthE, heightE), (0, 0, 0), -1)\n",
        "    return image\n",
        "  else:\n",
        "    return img"
      ],
      "metadata": {
        "id": "xST4YljBihUH"
      },
      "execution_count": 105,
      "outputs": []
    },
    {
      "cell_type": "code",
      "source": [
        "import os\n",
        "def dataset(img,nrsamples):\n",
        "  path = r'/content/drive/MyDrive/Examensarbete/Dataset'\n",
        "  name = 'adidas'\n",
        "  \n",
        "  for i in range(nrsamples):\n",
        "    #img = flip(img)\n",
        "    img = rotation(img,180)\n",
        "    img = randomblur(img)\n",
        "    img = crop(img)\n",
        "    img = cutout(img)\n",
        "    cv2.imwrite(os.path.join(path , name + str(i) + '.png'), img)\n",
        "    img = cv2.imread(r'/content/drive/MyDrive/Examensarbete/adidaslogo2vit.png',cv2.IMREAD_UNCHANGED)\n",
        "\n",
        "\n",
        "img = cv2.imread(r'/content/drive/MyDrive/Examensarbete/adidaslogo2vit.png',cv2.IMREAD_UNCHANGED)\n",
        "dataset(img,100)\n",
        "\n",
        "\n",
        "cv2.waitKey(0)\n",
        "\n",
        "\n",
        "#Lägg till:\n",
        "#Saturation\n",
        "#Z\n",
        "#Noise"
      ],
      "metadata": {
        "colab": {
          "base_uri": "https://localhost:8080/"
        },
        "id": "kCaDQyPRnlYz",
        "outputId": "28bff6a5-d1a6-41de-c250-a97320c70512"
      },
      "execution_count": 109,
      "outputs": [
        {
          "output_type": "execute_result",
          "data": {
            "text/plain": [
              "-1"
            ]
          },
          "metadata": {},
          "execution_count": 109
        }
      ]
    },
    {
      "cell_type": "code",
      "source": [
        "from google.colab import drive\n",
        "drive.mount('/content/drive')"
      ],
      "metadata": {
        "id": "EMPANEub4mOB"
      },
      "execution_count": null,
      "outputs": []
    },
    {
      "cell_type": "code",
      "source": [
        "#img = cv2.imread(r'/content/drive/MyDrive/Examensarbete/mountain')\n",
        "image = cv2.imread(r'/content/drive/MyDrive/Examensarbete/adidaslogo2vit.png',cv2.IMREAD_UNCHANGED)\n",
        "\n",
        "#img = cv2.add(img, image)\n",
        "\n",
        "#cv2_imshow(img)\n"
      ],
      "metadata": {
        "id": "AA-FaO0ed588"
      },
      "execution_count": null,
      "outputs": []
    }
  ]
}