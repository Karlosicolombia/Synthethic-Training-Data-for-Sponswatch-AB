{
  "nbformat": 4,
  "nbformat_minor": 0,
  "metadata": {
    "colab": {
      "provenance": [],
      "include_colab_link": true
    },
    "kernelspec": {
      "name": "python3",
      "display_name": "Python 3"
    },
    "language_info": {
      "name": "python"
    }
  },
  "cells": [
    {
      "cell_type": "markdown",
      "metadata": {
        "id": "view-in-github",
        "colab_type": "text"
      },
      "source": [
        "<a href=\"https://colab.research.google.com/github/Karlosicolombia/Synthethic-Training-Data-for-Sponswatch-AB/blob/main/Kopia_av_masking.ipynb\" target=\"_parent\"><img src=\"https://colab.research.google.com/assets/colab-badge.svg\" alt=\"Open In Colab\"/></a>"
      ]
    },
    {
      "cell_type": "code",
      "execution_count": null,
      "metadata": {
        "id": "AWYCUXiXB3oj"
      },
      "outputs": [],
      "source": [
        "import cv2\n",
        "import numpy as np\n",
        "from google.colab.patches import cv2_imshow"
      ]
    },
    {
      "cell_type": "code",
      "source": [
        "from google.colab import drive\n",
        "drive.mount('/content/drive')\n",
        "\n",
        "directory ='/content/drive/MyDrive/adidas'"
      ],
      "metadata": {
        "colab": {
          "base_uri": "https://localhost:8080/"
        },
        "id": "oJ_G3W28Df_Y",
        "outputId": "a6c31ffd-da17-43fc-a6a1-157d05032181"
      },
      "execution_count": null,
      "outputs": [
        {
          "output_type": "stream",
          "name": "stdout",
          "text": [
            "Drive already mounted at /content/drive; to attempt to forcibly remount, call drive.mount(\"/content/drive\", force_remount=True).\n"
          ]
        }
      ]
    },
    {
      "cell_type": "code",
      "source": [
        "from google.colab.patches import cv2_imshow\n",
        "\n",
        "img = cv2.imread(r'/content/drive/MyDrive/Examensarbete/adidaslogo2vit.png',cv2.IMREAD_UNCHANGED)\n",
        "#cv2_imshow(img)\n",
        "a = img.shape\n",
        "print(a)"
      ],
      "metadata": {
        "id": "HsdufYDNDDjt",
        "colab": {
          "base_uri": "https://localhost:8080/"
        },
        "outputId": "907ec087-0524-4007-e89f-353b55985244"
      },
      "execution_count": null,
      "outputs": [
        {
          "output_type": "stream",
          "name": "stdout",
          "text": [
            "(863, 1280, 4)\n"
          ]
        }
      ]
    },
    {
      "cell_type": "code",
      "source": [
        "kernel = np.ones((5, 5), np.uint8)\n",
        "hsv = cv2.cvtColor(img, cv2.COLOR_BGR2HSV)"
      ],
      "metadata": {
        "id": "WTk_YhUKFPPX"
      },
      "execution_count": null,
      "outputs": []
    },
    {
      "cell_type": "code",
      "source": [
        "Lower_hsv = np.array([51, 120, 0])\n",
        "Upper_hsv = np.array([255, 255, 255])"
      ],
      "metadata": {
        "id": "cgG52vKEFhJ6"
      },
      "execution_count": null,
      "outputs": []
    },
    {
      "cell_type": "code",
      "source": [
        "# creating the mask by eroding,morphing,\n",
        "# dilating process\n",
        "Mask = cv2.inRange(hsv, Lower_hsv, Upper_hsv)\n",
        "Mask = cv2.erode(Mask, kernel, iterations=1)\n",
        "Mask = cv2.morphologyEx(Mask, cv2.MORPH_OPEN, kernel)\n",
        "Mask = cv2.dilate(Mask, kernel, iterations=1)"
      ],
      "metadata": {
        "id": "xsvSbXPJF4jT"
      },
      "execution_count": null,
      "outputs": []
    },
    {
      "cell_type": "code",
      "source": [
        "Mask = cv2.bitwise_not(Mask)"
      ],
      "metadata": {
        "id": "FDGVf0qjF63t"
      },
      "execution_count": null,
      "outputs": []
    },
    {
      "cell_type": "code",
      "source": [
        "# Displaying the image\n",
        "cv2_imshow(Mask)"
      ],
      "metadata": {
        "colab": {
          "base_uri": "https://localhost:8080/",
          "height": 542
        },
        "id": "MH1M_o0ZF_4K",
        "outputId": "28ac87de-443d-4533-93db-ef43e37ef9cf"
      },
      "execution_count": null,
      "outputs": [
        {
          "output_type": "display_data",
          "data": {
            "text/plain": [
              "<PIL.Image.Image image mode=L size=1280x863 at 0x7F6AE7776970>"
            ],
            "image/png": "[encoded data removed]"
          },
          "metadata": {}
        }
      ]
    },
    {
      "cell_type": "code",
      "source": [
        "# waits for user to press any key\n",
        "# (this is necessary to avoid Python \n",
        "# kernel form crashing)\n",
        "cv2.waitKey(0)"
      ],
      "metadata": {
        "colab": {
          "base_uri": "https://localhost:8080/"
        },
        "id": "neV_FnQMGEMh",
        "outputId": "bea639fc-7d7b-4c22-c9f5-05dcd023b3d9"
      },
      "execution_count": null,
      "outputs": [
        {
          "output_type": "execute_result",
          "data": {
            "text/plain": [
              "-1"
            ]
          },
          "metadata": {},
          "execution_count": 279
        }
      ]
    },
    {
      "cell_type": "code",
      "source": [
        "# closing all open windows\n",
        "cv2.destroyAllWindows()"
      ],
      "metadata": {
        "id": "s5k3pRwzGEpv"
      },
      "execution_count": null,
      "outputs": []
    },
    {
      "cell_type": "code",
      "source": [
        "def flip(img):\n",
        "  rand = np.random.uniform(0,1)\n",
        "  image = img\n",
        "  if rand > 0.5:\n",
        "    image = cv2.flip(img, 0)\n",
        "    return image\n",
        "  else:\n",
        "    image = img\n",
        "    return image\n",
        "\n",
        "#Mask = augmentationflip(Mask, True)\n",
        "#cv2_imshow(Mask)\n",
        "\n",
        "\n"
      ],
      "metadata": {
        "id": "zIANNdzBOltp"
      },
      "execution_count": null,
      "outputs": []
    },
    {
      "cell_type": "code",
      "source": [
        "import numpy as np\n",
        "def rotation(img,rotation):\n",
        "  rotation = int(np.random.uniform(-rotation,rotation))\n",
        "  h,w = img.shape[:2]\n",
        "\n",
        "  matrix = cv2.getRotationMatrix2D((int(w/2),int(h/2)),rotation,0.4 )\n",
        "  image = cv2.warpAffine(img, matrix, (img.shape[1],img.shape[0]))\n",
        "  return image\n",
        "\n",
        "#rotated = rotation(Mask,180)\n",
        "#cv2_imshow(rotated) \n",
        "\n"
      ],
      "metadata": {
        "id": "xwHjFe60QtTT"
      },
      "execution_count": null,
      "outputs": []
    },
    {
      "cell_type": "code",
      "source": [
        "def randomblur(img):\n",
        "  Kx = (np.random.randint(0,15))\n",
        "  Ky = Kx\n",
        "  if Kx > 0:\n",
        "    kernel = (Kx,Ky)\n",
        "    image = cv2.blur(img,kernel)\n",
        "    return image\n",
        "  else: \n",
        "    image = img\n",
        "    return image\n",
        "\n",
        "\n"
      ],
      "metadata": {
        "id": "V4lk0UhEVFUT"
      },
      "execution_count": null,
      "outputs": []
    },
    {
      "cell_type": "code",
      "source": [
        "def crop(img):\n",
        "  randh = int(img.shape[0]*(np.random.uniform(0,3)))\n",
        "  randw = int(img.shape[1]*(np.random.uniform(0,3)))\n",
        "  dim = (randw,randh)\n",
        "  print(dim)\n",
        "  image = cv2.resize(img, dim, interpolation = cv2.INTER_NEAREST)\n",
        "  return image\n",
        "\n",
        "\n",
        "\n",
        "\n"
      ],
      "metadata": {
        "id": "aMvlph5DlGkV"
      },
      "execution_count": null,
      "outputs": []
    },
    {
      "cell_type": "code",
      "source": [
        "import os\n",
        "def dataset(img):\n",
        "  path = r'/content/drive/MyDrive/Examensarbete/Dataset'\n",
        "  name = 'adidas'\n",
        "  nrsamples = 100\n",
        "  for i in range(nrsamples):\n",
        "    img = flip(img)\n",
        "    img = rotation(img,180)\n",
        "    img = randomblur(img)\n",
        "    \n",
        "    cv2.imwrite(os.path.join(path , name + str(i) + '.png'), img)\n",
        "    img = cv2.imread(r'/content/drive/MyDrive/Examensarbete/adidaslogo2vit.png',cv2.IMREAD_UNCHANGED)\n",
        "    \n",
        "dataset(img)\n",
        "\n",
        "\n",
        "cv2.waitKey(0)\n",
        "\n",
        "\n",
        "#Lägg till:\n",
        "#Saturation\n",
        "#Z\n",
        "#Noise"
      ],
      "metadata": {
        "colab": {
          "base_uri": "https://localhost:8080/"
        },
        "id": "kCaDQyPRnlYz",
        "outputId": "e702a24b-df8a-438b-abd1-ff5e2026bb7f"
      },
      "execution_count": null,
      "outputs": [
        {
          "output_type": "execute_result",
          "data": {
            "text/plain": [
              "-1"
            ]
          },
          "metadata": {},
          "execution_count": 298
        }
      ]
    },
    {
      "cell_type": "code",
      "source": [
        "img = cv2.imread(r'/content/drive/MyDrive/Examensarbete/mountain')\n",
        "image = cv2.imread(r'/content/drive/MyDrive/Examensarbete/adidaslogo2vit.png',cv2.IMREAD_UNCHANGED)\n",
        "\n",
        "#img = cv2.add(img, image)\n",
        "\n",
        "cv2_imshow(img)\n"
      ],
      "metadata": {
        "colab": {
          "base_uri": "https://localhost:8080/",
          "height": 305
        },
        "id": "AA-FaO0ed588",
        "outputId": "f68ac838-2d7a-401e-e01c-2273862bb7fb"
      },
      "execution_count": null,
      "outputs": [
        {
          "output_type": "error",
          "ename": "error",
          "evalue": "ignored",
          "traceback": [
            "\u001b[0;31m---------------------------------------------------------------------------\u001b[0m",
            "\u001b[0;31merror\u001b[0m                                     Traceback (most recent call last)",
            "\u001b[0;32m<ipython-input-299-80263dcb6b1e>\u001b[0m in \u001b[0;36m<module>\u001b[0;34m\u001b[0m\n\u001b[1;32m      2\u001b[0m \u001b[0mimage\u001b[0m \u001b[0;34m=\u001b[0m \u001b[0mcv2\u001b[0m\u001b[0;34m.\u001b[0m\u001b[0mimread\u001b[0m\u001b[0;34m(\u001b[0m\u001b[0;34mr'/content/drive/MyDrive/Examensarbete/adidaslogo2vit.png'\u001b[0m\u001b[0;34m,\u001b[0m\u001b[0mcv2\u001b[0m\u001b[0;34m.\u001b[0m\u001b[0mIMREAD_UNCHANGED\u001b[0m\u001b[0;34m)\u001b[0m\u001b[0;34m\u001b[0m\u001b[0;34m\u001b[0m\u001b[0m\n\u001b[1;32m      3\u001b[0m \u001b[0;34m\u001b[0m\u001b[0m\n\u001b[0;32m----> 4\u001b[0;31m \u001b[0mimg\u001b[0m \u001b[0;34m=\u001b[0m \u001b[0mcv2\u001b[0m\u001b[0;34m.\u001b[0m\u001b[0madd\u001b[0m\u001b[0;34m(\u001b[0m\u001b[0mimg\u001b[0m\u001b[0;34m,\u001b[0m \u001b[0mimage\u001b[0m\u001b[0;34m)\u001b[0m\u001b[0;34m\u001b[0m\u001b[0;34m\u001b[0m\u001b[0m\n\u001b[0m\u001b[1;32m      5\u001b[0m \u001b[0;34m\u001b[0m\u001b[0m\n\u001b[1;32m      6\u001b[0m \u001b[0mcv2_imshow\u001b[0m\u001b[0;34m(\u001b[0m\u001b[0mimg\u001b[0m\u001b[0;34m)\u001b[0m\u001b[0;34m\u001b[0m\u001b[0;34m\u001b[0m\u001b[0m\n",
            "\u001b[0;31merror\u001b[0m: OpenCV(4.7.0) /io/opencv/modules/core/src/arithm.cpp:647: error: (-209:Sizes of input arguments do not match) The operation is neither 'array op array' (where arrays have the same size and the same number of channels), nor 'array op scalar', nor 'scalar op array' in function 'arithm_op'\n"
          ]
        }
      ]
    }
  ]
}