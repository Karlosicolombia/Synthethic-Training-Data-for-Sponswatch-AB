{
  "nbformat": 4,
  "nbformat_minor": 0,
  "metadata": {
    "colab": {
      "provenance": [],
      "authorship_tag": "ABX9TyMGtzajjs9s0t950opjMlaV",
      "include_colab_link": true
    },
    "kernelspec": {
      "name": "python3",
      "display_name": "Python 3"
    },
    "language_info": {
      "name": "python"
    }
  },
  "cells": [
    {
      "cell_type": "markdown",
      "metadata": {
        "id": "view-in-github",
        "colab_type": "text"
      },
      "source": [
        "<a href=\"https://colab.research.google.com/github/Karlosicolombia/Synthethic-Training-Data-for-Sponswatch-AB/blob/main/masking.ipynb\" target=\"_parent\"><img src=\"https://colab.research.google.com/assets/colab-badge.svg\" alt=\"Open In Colab\"/></a>"
      ]
    },
    {
      "cell_type": "code",
      "execution_count": 310,
      "metadata": {
        "id": "AWYCUXiXB3oj"
      },
      "outputs": [],
      "source": [
        "import cv2\n",
        "import numpy as np\n",
        "from google.colab.patches import cv2_imshow"
      ]
    },
    {
      "cell_type": "code",
      "source": [
        "from google.colab import drive\n",
        "drive.mount('/content/drive')\n",
        "\n",
        "directory ='/content/drive/MyDrive/adidas'"
      ],
      "metadata": {
        "colab": {
          "base_uri": "https://localhost:8080/"
        },
        "id": "oJ_G3W28Df_Y",
        "outputId": "f5ad9193-1bc6-4f4b-d51a-4379bd96c9d9"
      },
      "execution_count": 311,
      "outputs": [
        {
          "output_type": "stream",
          "name": "stdout",
          "text": [
            "Drive already mounted at /content/drive; to attempt to forcibly remount, call drive.mount(\"/content/drive\", force_remount=True).\n"
          ]
        }
      ]
    },
    {
      "cell_type": "code",
      "source": [
        "from google.colab.patches import cv2_imshow\n",
        "\n",
        "img = cv2.imread(r'/content/drive/MyDrive/adidas/144503924.jpg')\n",
        "#cv2_imshow(img)"
      ],
      "metadata": {
        "id": "HsdufYDNDDjt"
      },
      "execution_count": 312,
      "outputs": []
    },
    {
      "cell_type": "code",
      "source": [
        "kernel = np.ones((5, 5), np.uint8)\n",
        "hsv = cv2.cvtColor(img, cv2.COLOR_BGR2HSV)"
      ],
      "metadata": {
        "id": "WTk_YhUKFPPX"
      },
      "execution_count": 313,
      "outputs": []
    },
    {
      "cell_type": "code",
      "source": [
        "Lower_hsv = np.array([51, 120, 0])\n",
        "Upper_hsv = np.array([255, 255, 255])"
      ],
      "metadata": {
        "id": "cgG52vKEFhJ6"
      },
      "execution_count": 314,
      "outputs": []
    },
    {
      "cell_type": "code",
      "source": [
        "# creating the mask by eroding,morphing,\n",
        "# dilating process\n",
        "Mask = cv2.inRange(hsv, Lower_hsv, Upper_hsv)\n",
        "Mask = cv2.erode(Mask, kernel, iterations=1)\n",
        "Mask = cv2.morphologyEx(Mask, cv2.MORPH_OPEN, kernel)\n",
        "Mask = cv2.dilate(Mask, kernel, iterations=1)"
      ],
      "metadata": {
        "id": "xsvSbXPJF4jT"
      },
      "execution_count": 315,
      "outputs": []
    },
    {
      "cell_type": "code",
      "source": [
        "Mask = cv2.bitwise_not(Mask)"
      ],
      "metadata": {
        "id": "FDGVf0qjF63t"
      },
      "execution_count": 316,
      "outputs": []
    },
    {
      "cell_type": "code",
      "source": [
        "# Displaying the image\n",
        "cv2_imshow(Mask)"
      ],
      "metadata": {
        "colab": {
          "base_uri": "https://localhost:8080/",
          "height": 227
        },
        "id": "MH1M_o0ZF_4K",
        "outputId": "4a246f30-1a33-4b7d-c2eb-b6e9e07e3ce8"
      },
      "execution_count": 317,
      "outputs": [
        {
          "output_type": "display_data",
          "data": {
            "text/plain": [
              "<PIL.Image.Image image mode=L size=280x210 at 0x7FD14C582160>"
            ],
            "image/png": "[encoded data removed]"
          },
          "metadata": {}
        }
      ]
    },
    {
      "cell_type": "code",
      "source": [
        "# waits for user to press any key\n",
        "# (this is necessary to avoid Python \n",
        "# kernel form crashing)\n",
        "cv2.waitKey(0)"
      ],
      "metadata": {
        "colab": {
          "base_uri": "https://localhost:8080/"
        },
        "id": "neV_FnQMGEMh",
        "outputId": "48b064bd-0099-481b-b986-22519fe88895"
      },
      "execution_count": 318,
      "outputs": [
        {
          "output_type": "execute_result",
          "data": {
            "text/plain": [
              "-1"
            ]
          },
          "metadata": {},
          "execution_count": 318
        }
      ]
    },
    {
      "cell_type": "code",
      "source": [
        "# closing all open windows\n",
        "cv2.destroyAllWindows()"
      ],
      "metadata": {
        "id": "s5k3pRwzGEpv"
      },
      "execution_count": 319,
      "outputs": []
    }
  ]
}