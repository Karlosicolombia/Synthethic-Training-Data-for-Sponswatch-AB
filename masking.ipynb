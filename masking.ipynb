{
  "nbformat": 4,
  "nbformat_minor": 0,
  "metadata": {
    "colab": {
      "provenance": [],
      "include_colab_link": true
    },
    "kernelspec": {
      "name": "python3",
      "display_name": "Python 3"
    },
    "language_info": {
      "name": "python"
    }
  },
  "cells": [
    {
      "cell_type": "markdown",
      "metadata": {
        "id": "view-in-github",
        "colab_type": "text"
      },
      "source": [
        "<a href=\"https://colab.research.google.com/github/Karlosicolombia/Synthethic-Training-Data-for-Sponswatch-AB/blob/main/masking.ipynb\" target=\"_parent\"><img src=\"https://colab.research.google.com/assets/colab-badge.svg\" alt=\"Open In Colab\"/></a>"
      ]
    },
    {
      "cell_type": "code",
      "execution_count": 1,
      "metadata": {
        "id": "AWYCUXiXB3oj",
        "outputId": "39275393-4301-408e-b6ad-5e5cd1f9f715",
        "colab": {
          "base_uri": "https://localhost:8080/"
        }
      },
      "outputs": [
        {
          "output_type": "stream",
          "name": "stdout",
          "text": [
            "pygame 2.3.0 (SDL 2.24.2, Python 3.9.16)\n",
            "Hello from the pygame community. https://www.pygame.org/contribute.html\n",
            "Looking in indexes: https://pypi.org/simple, https://us-python.pkg.dev/colab-wheels/public/simple/\n",
            "Requirement already satisfied: pillow in /usr/local/lib/python3.9/dist-packages (9.4.0)\n",
            "Looking in indexes: https://pypi.org/simple, https://us-python.pkg.dev/colab-wheels/public/simple/\n",
            "Requirement already satisfied: Pillow in /usr/local/lib/python3.9/dist-packages (9.4.0)\n"
          ]
        }
      ],
      "source": [
        "import cv2\n",
        "import numpy as np\n",
        "from google.colab.patches import cv2_imshow\n",
        "\n",
        "\n",
        "!pip install pillow\n",
        "!pip install --upgrade Pillow"
      ]
    },
    {
      "cell_type": "code",
      "source": [
        "\n",
        "import PIL\n",
        "from PIL import Image as img\n",
        "\n"
      ],
      "metadata": {
        "id": "AgdByYwQMs6i"
      },
      "execution_count": 2,
      "outputs": []
    },
    {
      "cell_type": "code",
      "source": [
        "from google.colab import drive\n",
        "drive.mount('/content/drive')\n",
        "\n",
        "directory ='/content/drive/MyDrive/adidas'"
      ],
      "metadata": {
        "colab": {
          "base_uri": "https://localhost:8080/"
        },
        "id": "oJ_G3W28Df_Y",
        "outputId": "d70a60c5-ce8a-4346-9fb5-4f693223028c"
      },
      "execution_count": 3,
      "outputs": [
        {
          "output_type": "stream",
          "name": "stdout",
          "text": [
            "Drive already mounted at /content/drive; to attempt to forcibly remount, call drive.mount(\"/content/drive\", force_remount=True).\n"
          ]
        }
      ]
    },
    {
      "cell_type": "code",
      "source": [
        "from google.colab.patches import cv2_imshow\n",
        "\n",
        "img = cv2.imread(r'/content/drive/MyDrive/Examensarbete/adidaslogo2vit.png',cv2.IMREAD_UNCHANGED)\n",
        "#cv2_imshow(img)\n",
        "a = img.shape\n",
        "print(a)"
      ],
      "metadata": {
        "id": "HsdufYDNDDjt",
        "colab": {
          "base_uri": "https://localhost:8080/"
        },
        "outputId": "d92d6d22-e873-4317-ef59-5ef183758c0b"
      },
      "execution_count": 4,
      "outputs": [
        {
          "output_type": "stream",
          "name": "stdout",
          "text": [
            "(863, 1280, 4)\n"
          ]
        }
      ]
    },
    {
      "cell_type": "code",
      "source": [
        "kernel = np.ones((5, 5), np.uint8)\n",
        "hsv = cv2.cvtColor(img, cv2.COLOR_BGR2HSV)"
      ],
      "metadata": {
        "id": "WTk_YhUKFPPX"
      },
      "execution_count": 5,
      "outputs": []
    },
    {
      "cell_type": "code",
      "source": [
        "Lower_hsv = np.array([51, 120, 0])\n",
        "Upper_hsv = np.array([255, 255, 255])"
      ],
      "metadata": {
        "id": "cgG52vKEFhJ6"
      },
      "execution_count": 6,
      "outputs": []
    },
    {
      "cell_type": "code",
      "source": [
        "# creating the mask by eroding,morphing,\n",
        "# dilating process\n",
        "Mask = cv2.inRange(hsv, Lower_hsv, Upper_hsv)\n",
        "Mask = cv2.erode(Mask, kernel, iterations=1)\n",
        "Mask = cv2.morphologyEx(Mask, cv2.MORPH_OPEN, kernel)\n",
        "Mask = cv2.dilate(Mask, kernel, iterations=1)"
      ],
      "metadata": {
        "id": "xsvSbXPJF4jT"
      },
      "execution_count": 7,
      "outputs": []
    },
    {
      "cell_type": "code",
      "source": [
        "Mask = cv2.bitwise_not(Mask)"
      ],
      "metadata": {
        "id": "FDGVf0qjF63t"
      },
      "execution_count": 8,
      "outputs": []
    },
    {
      "cell_type": "code",
      "source": [
        "# Displaying the image\n",
        "#cv2_imshow(Mask)"
      ],
      "metadata": {
        "id": "MH1M_o0ZF_4K"
      },
      "execution_count": 9,
      "outputs": []
    },
    {
      "cell_type": "code",
      "source": [
        "# waits for user to press any key\n",
        "# (this is necessary to avoid Python \n",
        "# kernel form crashing)\n",
        "cv2.waitKey(0)"
      ],
      "metadata": {
        "colab": {
          "base_uri": "https://localhost:8080/"
        },
        "id": "neV_FnQMGEMh",
        "outputId": "da60fb42-c923-4cbe-e6ec-6145ec4fecba"
      },
      "execution_count": 10,
      "outputs": [
        {
          "output_type": "execute_result",
          "data": {
            "text/plain": [
              "-1"
            ]
          },
          "metadata": {},
          "execution_count": 10
        }
      ]
    },
    {
      "cell_type": "code",
      "source": [
        "# closing all open windows\n",
        "cv2.destroyAllWindows()"
      ],
      "metadata": {
        "id": "s5k3pRwzGEpv"
      },
      "execution_count": 11,
      "outputs": []
    },
    {
      "cell_type": "code",
      "source": [
        "def flip(img):\n",
        "  rand = np.random.uniform(0,1)\n",
        "  image = img\n",
        "  if rand > 0.5:\n",
        "    image = cv2.flip(img, 0)\n",
        "    return image\n",
        "  else:\n",
        "    image = img\n",
        "    return image\n",
        "\n",
        "#Mask = augmentationflip(Mask, True)\n",
        "#cv2_imshow(Mask)\n",
        "\n",
        "\n"
      ],
      "metadata": {
        "id": "zIANNdzBOltp"
      },
      "execution_count": 12,
      "outputs": []
    },
    {
      "cell_type": "code",
      "source": [
        "import numpy as np\n",
        "def rotation(img,rotation):\n",
        "  rotation = int(np.random.uniform(-rotation,rotation))\n",
        "  h,w = img.shape[:2]\n",
        "\n",
        "  matrix = cv2.getRotationMatrix2D((int(w/2),int(h/2)),rotation,0.4 )\n",
        "  image = cv2.warpAffine(img, matrix, (img.shape[1],img.shape[0]))\n",
        "  return image\n",
        "\n",
        "#rotated = rotation(Mask,180)\n",
        "#cv2_imshow(rotated) \n",
        "\n"
      ],
      "metadata": {
        "id": "xwHjFe60QtTT"
      },
      "execution_count": 13,
      "outputs": []
    },
    {
      "cell_type": "code",
      "source": [
        "def randomblur(img):\n",
        "  Kx = (np.random.randint(0,30))\n",
        "  Ky = Kx \n",
        "  if Kx > 0:\n",
        "    kernel = (Kx,Ky)\n",
        "    image = cv2.blur(img,kernel)\n",
        "    return image\n",
        "  else: \n",
        "    image = img\n",
        "    return image\n",
        "\n",
        "\n"
      ],
      "metadata": {
        "id": "V4lk0UhEVFUT"
      },
      "execution_count": 42,
      "outputs": []
    },
    {
      "cell_type": "code",
      "source": [
        "def crop(img):\n",
        "  scaleW = np.random.uniform(0.2,1.3)\n",
        "  scaleH = np.random.uniform(0.2,1.3)\n",
        "  \n",
        "  image = cv2.resize(img, (int(img.shape[1]*scaleW),int(img.shape[0]*scaleH)), interpolation = cv2.INTER_AREA)\n",
        "  return image\n",
        "\n",
        "\n",
        "\n",
        "\n",
        "\n"
      ],
      "metadata": {
        "id": "aMvlph5DlGkV"
      },
      "execution_count": 51,
      "outputs": []
    },
    {
      "cell_type": "code",
      "source": [
        "from PIL import Image as img\n",
        "import os\n",
        "import random\n",
        "\n",
        "def generatecomposite(SizeDataset): #10-15s per bild, kika in mahotas också eller blit med filip\n",
        "  \n",
        "  \n",
        "  for i in range(SizeDataset):\n",
        "    os.chdir(r'/content/drive/MyDrive/Examensarbete/train')\n",
        "    \n",
        "    with img.open(random.choice(os.listdir(r'/content/drive/MyDrive/Examensarbete/train'))) as image:\n",
        "      \n",
        "      image.load()\n",
        "      print('imagesize:' ,image.size)\n",
        "      randomh = int((image.size[1]*0.5) + (image.size[1])*np.random.uniform(-0.5,0))\n",
        "      randomw = int((image.size[0]*0.5) + (image.size[0]/2)*np.random.uniform(-1,0))\n",
        "      \n",
        "      print('randomwh:', (randomw,randomh))\n",
        "      os.chdir(r'/content/drive/MyDrive/Examensarbete/Dataset')\n",
        "    with img.open(random.choice(os.listdir(r'/content/drive/MyDrive/Examensarbete/Dataset'))) as overlay:\n",
        "      overlay.load()\n",
        "      print('overlaysize:',  overlay.size)\n",
        "      image.paste(overlay, (randomw,randomh),overlay)\n",
        "      os.chdir(r'/content/drive/MyDrive/Examensarbete/Synthetic Data')\n",
        "      image = image.save('synthethic_image_' + str(i)+'.jpeg')\n",
        "  return\n",
        "\n",
        "\n",
        "\n",
        "generatecomposite(20)\n",
        "\n",
        "\n"
      ],
      "metadata": {
        "colab": {
          "base_uri": "https://localhost:8080/"
        },
        "id": "-WhTRhKEwVZ-",
        "outputId": "ec3691a8-0d35-4017-b8bf-e586182e9f47"
      },
      "execution_count": 55,
      "outputs": [
        {
          "output_type": "stream",
          "name": "stdout",
          "text": [
            "imagesize: (1919, 1080)\n",
            "randomwh: (118, 197)\n",
            "overlaysize: (1330, 1113)\n",
            "imagesize: (1620, 1080)\n",
            "randomwh: (359, 503)\n",
            "overlaysize: (1343, 275)\n",
            "imagesize: (1440, 1080)\n",
            "randomwh: (313, 305)\n",
            "overlaysize: (439, 910)\n",
            "imagesize: (1619, 1080)\n",
            "randomwh: (649, 342)\n",
            "overlaysize: (1495, 601)\n",
            "imagesize: (1080, 1620)\n",
            "randomwh: (383, 353)\n",
            "overlaysize: (781, 400)\n",
            "imagesize: (1617, 1080)\n",
            "randomwh: (638, 521)\n",
            "overlaysize: (1453, 601)\n",
            "imagesize: (1620, 1080)\n",
            "randomwh: (395, 174)\n",
            "overlaysize: (1319, 818)\n",
            "imagesize: (1620, 1080)\n",
            "randomwh: (381, 284)\n",
            "overlaysize: (645, 211)\n",
            "imagesize: (1622, 1080)\n",
            "randomwh: (166, 147)\n",
            "overlaysize: (1161, 390)\n",
            "imagesize: (3109, 1080)\n",
            "randomwh: (890, 481)\n",
            "overlaysize: (613, 426)\n",
            "imagesize: (1620, 1080)\n",
            "randomwh: (275, 101)\n",
            "overlaysize: (724, 837)\n",
            "imagesize: (1620, 1080)\n",
            "randomwh: (383, 94)\n",
            "overlaysize: (1319, 818)\n",
            "imagesize: (1723, 1080)\n",
            "randomwh: (335, 32)\n",
            "overlaysize: (1484, 346)\n",
            "imagesize: (1919, 1080)\n",
            "randomwh: (907, 492)\n",
            "overlaysize: (562, 389)\n",
            "imagesize: (1617, 1080)\n",
            "randomwh: (624, 63)\n",
            "overlaysize: (1442, 1112)\n",
            "imagesize: (1620, 1080)\n",
            "randomwh: (703, 272)\n",
            "overlaysize: (1484, 346)\n",
            "imagesize: (1080, 1440)\n",
            "randomwh: (121, 699)\n",
            "overlaysize: (760, 494)\n",
            "imagesize: (1615, 1080)\n",
            "randomwh: (586, 308)\n",
            "overlaysize: (1330, 1113)\n",
            "imagesize: (1080, 1080)\n",
            "randomwh: (167, 279)\n",
            "overlaysize: (1442, 1112)\n",
            "imagesize: (1676, 1080)\n",
            "randomwh: (7, 69)\n",
            "overlaysize: (1479, 712)\n"
          ]
        }
      ]
    },
    {
      "cell_type": "code",
      "source": [
        "import numpy as np\n",
        "def saturation_image(img):\n",
        "    version = np.random.randint(0,4)\n",
        "    saturation = int(np.random.uniform(0,130))\n",
        "    \n",
        "    print(version)\n",
        "    print(saturation)\n",
        "    version = 1\n",
        "\n",
        "    if version == 0:\n",
        "      image = img\n",
        "      return image\n",
        "    if version == 1:\n",
        "      \n",
        "      return image\n",
        "\n",
        "    if version == 2:\n",
        "      image = img[:,saturation,:]\n",
        "      image = cv2.cvtColor(image,cv2.COLOR_BGR2BGRA)\n",
        "      return image\n",
        "    if version == 3:\n",
        "      image = img[:,:,saturation]\n",
        "      image = cv2.cvtColor(image,cv2.COLOR_BGR2BGRA)\n",
        "      return image\n",
        "    \n",
        "#img = cv2.imread(r'/content/drive/MyDrive/Examensarbete/adidaslogo2vit.png',cv2.IMREAD_UNCHANGED)\n",
        "#img = saturation_image(img)   \n",
        "#cv2_imshow(img)\n",
        "#cv2.waitKey(0)"
      ],
      "metadata": {
        "id": "JWSMkicWaUBe"
      },
      "execution_count": 17,
      "outputs": []
    },
    {
      "cell_type": "code",
      "source": [
        "def cutout(img):\n",
        "  threshold = np.random.uniform(0,1)\n",
        "  if threshold < 0.1:\n",
        "    \n",
        "    endpoint = np.random.uniform(-2,2)\n",
        "\n",
        "    \n",
        "    widthS = int(img.shape[1]/2)\n",
        "    heightS = int(img.shape[0]/2)\n",
        "\n",
        "\n",
        "    widthE = int(img.shape[1]*endpoint)\n",
        "    heightE = int(img.shape[0]*endpoint)\n",
        "\n",
        "    image = cv2.rectangle(img, (widthS, heightS), (widthE, heightE), (0, 0, 0), -1)\n",
        "    return image\n",
        "  else:\n",
        "    return img"
      ],
      "metadata": {
        "id": "xST4YljBihUH"
      },
      "execution_count": 45,
      "outputs": []
    },
    {
      "cell_type": "code",
      "source": [
        "import os\n",
        "def dataset(img,nrsamples):\n",
        "  path = r'/content/drive/MyDrive/Examensarbete/Dataset'\n",
        "  name = 'adidas'\n",
        "  \n",
        "  for i in range(nrsamples):\n",
        "    #img = flip(img)\n",
        "    img = rotation(img,180)\n",
        "    img = randomblur(img)\n",
        "    img = crop(img)\n",
        "    img = cutout(img)\n",
        "    cv2.imwrite(os.path.join(path , name + str(i) + '.png'), img)\n",
        "    img = cv2.imread(r'/content/drive/MyDrive/Examensarbete/adidaslogo2vit.png',cv2.IMREAD_UNCHANGED)\n",
        "\n",
        "os.chdir(r'/content/drive/MyDrive/Examensarbete')\n",
        "img = cv2.imread(r'/content/drive/MyDrive/Examensarbete/adidaslogo2vit.png',cv2.IMREAD_UNCHANGED)\n",
        "dataset(img,100)\n",
        "\n",
        "\n",
        "cv2.waitKey(0)\n",
        "\n",
        "\n",
        "#Lägg till:\n",
        "#Saturation\n",
        "#Z\n",
        "#Noise"
      ],
      "metadata": {
        "colab": {
          "base_uri": "https://localhost:8080/"
        },
        "id": "kCaDQyPRnlYz",
        "outputId": "d0cf213a-3c7c-4b5c-a339-88f8d2e8e548"
      },
      "execution_count": 54,
      "outputs": [
        {
          "output_type": "execute_result",
          "data": {
            "text/plain": [
              "-1"
            ]
          },
          "metadata": {},
          "execution_count": 54
        }
      ]
    },
    {
      "cell_type": "code",
      "source": [
        "from google.colab import drive\n",
        "drive.mount('/content/drive')"
      ],
      "metadata": {
        "id": "EMPANEub4mOB",
        "outputId": "549f82be-7e3e-4d46-e766-71623c08b030",
        "colab": {
          "base_uri": "https://localhost:8080/"
        }
      },
      "execution_count": 20,
      "outputs": [
        {
          "output_type": "stream",
          "name": "stdout",
          "text": [
            "Drive already mounted at /content/drive; to attempt to forcibly remount, call drive.mount(\"/content/drive\", force_remount=True).\n"
          ]
        }
      ]
    },
    {
      "cell_type": "code",
      "source": [
        "#img = cv2.imread(r'/content/drive/MyDrive/Examensarbete/mountain')\n",
        "image = cv2.imread(r'/content/drive/MyDrive/Examensarbete/adidaslogo2vit.png',cv2.IMREAD_UNCHANGED)\n",
        "\n",
        "#img = cv2.add(img, image)\n",
        "\n",
        "#cv2_imshow(img)\n"
      ],
      "metadata": {
        "id": "AA-FaO0ed588"
      },
      "execution_count": 21,
      "outputs": []
    }
  ]
}