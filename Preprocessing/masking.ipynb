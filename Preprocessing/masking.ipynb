{
  "nbformat": 4,
  "nbformat_minor": 0,
  "metadata": {
    "colab": {
      "provenance": [],
      "include_colab_link": true
    },
    "kernelspec": {
      "name": "python3",
      "display_name": "Python 3"
    },
    "language_info": {
      "name": "python"
    }
  },
  "cells": [
    {
      "cell_type": "markdown",
      "metadata": {
        "id": "view-in-github",
        "colab_type": "text"
      },
      "source": [
        "<a href=\"https://colab.research.google.com/github/Karlosicolombia/Synthethic-Training-Data-for-Sponswatch-AB/blob/main/Preprocessing/masking.ipynb\" target=\"_parent\"><img src=\"https://colab.research.google.com/assets/colab-badge.svg\" alt=\"Open In Colab\"/></a>"
      ]
    },
    {
      "cell_type": "code",
      "execution_count": null,
      "metadata": {
        "id": "AWYCUXiXB3oj"
      },
      "outputs": [],
      "source": [
        "import cv2\n",
        "import numpy as np\n",
        "from google.colab.patches import cv2_imshow\n",
        "import PIL\n",
        "from PIL import Image as img\n",
        "\n",
        "#!pip install pillow\n",
        "#!pip install --upgrade Pillow"
      ]
    },
    {
      "cell_type": "code",
      "source": [
        "from google.colab import drive\n",
        "drive.mount('/content/drive')\n",
        "\n",
        "directory ='/content/drive/MyDrive/adidas'"
      ],
      "metadata": {
        "colab": {
          "base_uri": "https://localhost:8080/"
        },
        "id": "oJ_G3W28Df_Y",
        "outputId": "4c07639f-9009-4bf5-929a-34baf9bf8e92"
      },
      "execution_count": null,
      "outputs": [
        {
          "output_type": "stream",
          "name": "stdout",
          "text": [
            "Mounted at /content/drive\n"
          ]
        }
      ]
    },
    {
      "cell_type": "code",
      "source": [
        "from google.colab.patches import cv2_imshow\n",
        "\n",
        "img = cv2.imread(r'/content/drive/MyDrive/Examensarbete/testMaskklar.png',cv2.IMREAD_UNCHANGED)\n",
        "\n",
        "\n",
        "kernel = np.ones((5, 5), np.uint8)\n",
        "hsv = cv2.cvtColor(img, cv2.COLOR_BGR2HSV)\n",
        "\n",
        "Lower_hsv = np.array([51, 120, 0])\n",
        "Upper_hsv = np.array([255, 255, 255])\n",
        "\n",
        "# creating the mask by eroding,morphing,\n",
        "# dilating process\n",
        "Mask = cv2.inRange(hsv, Lower_hsv, Upper_hsv)\n",
        "Mask = cv2.erode(Mask, kernel, iterations=1)\n",
        "Mask = cv2.morphologyEx(Mask, cv2.MORPH_OPEN, kernel)\n",
        "Mask = cv2.dilate(Mask, kernel, iterations=1)\n",
        "\n",
        "Mask = cv2.bitwise_not(Mask)\n",
        "#cv2_imshow(Mask)\n",
        "#cv2.waitKey(0)"
      ],
      "metadata": {
        "id": "xsvSbXPJF4jT"
      },
      "execution_count": null,
      "outputs": []
    },
    {
      "cell_type": "markdown",
      "source": [
        "Following are the functions that transform an image with some random augmentations."
      ],
      "metadata": {
        "id": "OAAVbVrthZiC"
      }
    },
    {
      "cell_type": "code",
      "source": [
        "def flip(img):\n",
        "  rand = np.random.uniform(0,1)\n",
        "  image = img\n",
        "  if rand > 0.5:\n",
        "    image = cv2.flip(img, 0)\n",
        "    return image\n",
        "  else:\n",
        "    image = img\n",
        "    return image\n",
        "\n",
        "#Mask = augmentationflip(Mask, True)\n",
        "#cv2_imshow(Mask)\n",
        "\n",
        "\n"
      ],
      "metadata": {
        "id": "zIANNdzBOltp"
      },
      "execution_count": null,
      "outputs": []
    },
    {
      "cell_type": "code",
      "source": [
        "import numpy as np\n",
        "def rotation(img,rotation):\n",
        "  rotation = int(np.random.uniform(-rotation,rotation))\n",
        "  h,w = img.shape[:2]\n",
        "\n",
        "  matrix = cv2.getRotationMatrix2D((int(w/2),int(h/2)),rotation,0.4 )\n",
        "  image = cv2.warpAffine(img, matrix, (img.shape[1],img.shape[0]))\n",
        "  return image\n",
        "\n",
        "#rotated = rotation(Mask,180)\n",
        "#cv2_imshow(rotated) \n",
        "\n"
      ],
      "metadata": {
        "id": "xwHjFe60QtTT"
      },
      "execution_count": null,
      "outputs": []
    },
    {
      "cell_type": "code",
      "source": [
        "def randomblur(img):\n",
        "  Kx = (np.random.randint(0,15))\n",
        "  Ky = Kx \n",
        "  if Kx > 0:\n",
        "    kernel = (Kx,Ky)\n",
        "    image = cv2.blur(img,kernel)\n",
        "    return image\n",
        "  else: \n",
        "    image = img\n",
        "    return image\n",
        "\n",
        "\n"
      ],
      "metadata": {
        "id": "V4lk0UhEVFUT"
      },
      "execution_count": null,
      "outputs": []
    },
    {
      "cell_type": "code",
      "source": [
        "def crop(img):\n",
        "  scaleW = np.random.uniform(0.1,1.5)\n",
        "  scaleH = np.random.uniform(0.1,1.5)\n",
        "  \n",
        "  image = cv2.resize(img, (int(img.shape[1]*scaleW),int(img.shape[0]*scaleH)), interpolation = cv2.INTER_AREA)\n",
        "  return image\n",
        "\n",
        "\n",
        "\n",
        "\n",
        "\n"
      ],
      "metadata": {
        "id": "aMvlph5DlGkV"
      },
      "execution_count": null,
      "outputs": []
    },
    {
      "cell_type": "code",
      "source": [
        "def cutout(img):\n",
        "  threshold = np.random.uniform(0,1)\n",
        "  if threshold > 0.1:\n",
        "    \n",
        "    endpoint = np.random.uniform(-2,2)\n",
        "\n",
        "    \n",
        "    widthS = int(img.shape[1]/2)\n",
        "    heightS = int(img.shape[0]/2)\n",
        "\n",
        "\n",
        "    widthE = int(img.shape[1]*endpoint)\n",
        "    heightE = int(img.shape[0]*endpoint)\n",
        "\n",
        "    image = cv2.rectangle(img, (widthS, heightS), (widthE, heightE), (0, 0, 0), -1)\n",
        "    return image\n",
        "  else:\n",
        "    return img"
      ],
      "metadata": {
        "id": "POmpeSBVhne2"
      },
      "execution_count": null,
      "outputs": []
    },
    {
      "cell_type": "code",
      "source": [
        "import numpy as np\n",
        "def saturation_image(img):\n",
        "    version = np.random.randint(0,4)\n",
        "    saturation = int(np.random.uniform(0,130))\n",
        "    \n",
        "    print(version)\n",
        "    print(saturation)\n",
        "    version = 1\n",
        "\n",
        "    if version == 0:\n",
        "      image = img\n",
        "      return image\n",
        "    if version == 1:\n",
        "      \n",
        "      return image\n",
        "\n",
        "    if version == 2:\n",
        "      image = img[:,saturation,:]\n",
        "      image = cv2.cvtColor(image,cv2.COLOR_BGR2BGRA)\n",
        "      return image\n",
        "    if version == 3:\n",
        "      image = img[:,:,saturation]\n",
        "      image = cv2.cvtColor(image,cv2.COLOR_BGR2BGRA)\n",
        "      return image\n",
        "    \n",
        "#img = cv2.imread(r'/content/drive/MyDrive/Examensarbete/adidaslogo2vit.png',cv2.IMREAD_UNCHANGED)\n",
        "#img = saturation_image(img)   \n",
        "#cv2_imshow(img)\n",
        "#cv2.waitKey(0)"
      ],
      "metadata": {
        "id": "o7WCrxKAhwL9"
      },
      "execution_count": null,
      "outputs": []
    },
    {
      "cell_type": "code",
      "source": [
        "from PIL import Image\n",
        "    \n",
        "def cropforobject(img):\n",
        "\n",
        "  img = Image.fromarray(img)\n",
        "  \n",
        "\n",
        "  imageBox = img.getbbox()\n",
        "  cropped = img.crop(imageBox)\n",
        "  cropped = np.asarray(cropped)\n",
        "  return cropped\n"
      ],
      "metadata": {
        "id": "uKc8HJgmSUjZ"
      },
      "execution_count": null,
      "outputs": []
    },
    {
      "cell_type": "markdown",
      "source": [
        "The functions below are functions that store files and generates a dataset in a folder."
      ],
      "metadata": {
        "id": "l6vyiAdJhxid"
      }
    },
    {
      "cell_type": "code",
      "source": [
        "from PIL import Image as img\n",
        "import os\n",
        "import random\n",
        "\n",
        "def generatecomposite(SizeDataset): \n",
        "  \n",
        "  \n",
        "  for i in range(SizeDataset):\n",
        "    os.chdir(r'/content/drive/MyDrive/Examensarbete/train')\n",
        "    \n",
        "    with img.open(random.choice(os.listdir(r'/content/drive/MyDrive/Examensarbete/train'))) as image:\n",
        "      \n",
        "      image.load()\n",
        "      \n",
        "      randomh = int((image.size[1]*0.8) + (image.size[1])*np.random.uniform(-0.8,0))\n",
        "      randomw = int((image.size[0]*0.5) + (image.size[0]/2)*np.random.uniform(-1,0.1))\n",
        "      \n",
        "      \n",
        "      os.chdir(r'/content/drive/MyDrive/Examensarbete/Dataset')\n",
        "    with img.open(random.choice(os.listdir(r'/content/drive/MyDrive/Examensarbete/Dataset'))) as overlay:\n",
        "      overlay.load()\n",
        "      image.paste(overlay, (randomw,randomh),overlay)\n",
        "      os.chdir(r'/content/drive/MyDrive/Examensarbete/Synthetic Data')\n",
        "      image = image.save('synthethic_image_' + str(i)+'.jpeg')\n",
        "  return\n",
        "\n",
        "\n",
        "\n",
        "#generatecomposite(20)\n",
        "\n",
        "\n"
      ],
      "metadata": {
        "id": "-WhTRhKEwVZ-"
      },
      "execution_count": null,
      "outputs": []
    },
    {
      "cell_type": "code",
      "source": [
        "import os\n",
        "def dataset(img,nrsamples):\n",
        "  path = r'/content/drive/MyDrive/Examensarbete/Dataset-loggor'\n",
        "  name = 'adidas'\n",
        "  \n",
        "  for i in range(nrsamples):\n",
        "    #img = flip(img)\n",
        "    img = rotation(img,180)\n",
        "    #img = randomblur(img)\n",
        "    img = crop(img)\n",
        "    #img = cutout(img)\n",
        "    img = cropforobject(img)\n",
        "    cv2.imwrite(os.path.join(path , name + str(i) + '.png'), img)\n",
        "    img = cv2.imread(r'/content/drive/MyDrive/Examensarbete/testMaskklar.png',cv2.IMREAD_UNCHANGED)\n",
        "\n",
        "\n",
        "img = cv2.imread(r'/content/drive/MyDrive/Examensarbete/testMaskklar.png',cv2.IMREAD_UNCHANGED)\n",
        "dataset(img,50)\n",
        "\n",
        "\n",
        "cv2.waitKey(0)\n",
        "\n",
        "\n",
        "#Lägg till:\n",
        "#Saturation\n",
        "#Z\n",
        "#Noise"
      ],
      "metadata": {
        "colab": {
          "base_uri": "https://localhost:8080/"
        },
        "id": "kCaDQyPRnlYz",
        "outputId": "3f01358d-b686-4a4c-a0d7-ab7772e0871c"
      },
      "execution_count": null,
      "outputs": [
        {
          "output_type": "execute_result",
          "data": {
            "text/plain": [
              "-1"
            ]
          },
          "metadata": {},
          "execution_count": 12
        }
      ]
    },
    {
      "cell_type": "markdown",
      "source": [
        "Functions that creates a dataset for Deep Image Blending. This model needs three (3) images named \"i_target.png\",\"i_source.png\" and \"i_mask.png\". Where target is the background, source is the foreground and mask is the mask of the foreground object. "
      ],
      "metadata": {
        "id": "b5kW_bDpiLSu"
      }
    },
    {
      "cell_type": "code",
      "source": [
        "from PIL import Image as img\n",
        "import os\n",
        "import random\n",
        "\n",
        "\n",
        "path = r'/content/drive/MyDrive/Examensarbete/' #Location of datasets to choose from.\n",
        "os.chdir(path) #\n",
        "size = (512,512)\n",
        "def Imageblending(datasetSize):\n",
        "  i=303\n",
        "  for i in range(i, datasetSize+i):\n",
        "    \n",
        "    os.chdir(r'/content/drive/MyDrive/Examensarbete/train-bg20k')\n",
        "    with img.open(random.choice(os.listdir(r'/content/drive/MyDrive/Examensarbete/train-bg20k'))) as image:\n",
        "\n",
        "      image.load()\n",
        "      os.chdir(r'/content/drive/MyDrive/Examensarbete/Deep Blending Dataset')\n",
        "      image = image.resize(size, resample=None, box=None, reducing_gap=None)\n",
        "      image = image.save(str(i)+'_target.png')\n",
        "\n",
        "    os.chdir(r'/content/drive/MyDrive/Examensarbete/Dataset-loggor')\n",
        "    with img.open(random.choice(os.listdir(r'/content/drive/MyDrive/Examensarbete/Dataset-loggor'))) as image:\n",
        "\n",
        "      image.load()\n",
        "      pathtoimage = image.filename \n",
        "      os.chdir(r'/content/drive/MyDrive/Examensarbete/Deep Blending Dataset')\n",
        "      image = image.resize(size, resample=None, box=None, reducing_gap=None)\n",
        "      image = image.save(str(i)+'_source.png')\n",
        "      \n",
        "      \n",
        "      image = cv2.imread(r'/content/drive/MyDrive/Examensarbete/Dataset-loggor/'+ str(pathtoimage),cv2.IMREAD_UNCHANGED)\n",
        "      image = cv2.resize(image, (512,512), interpolation=cv2.INTER_CUBIC)  \n",
        "\n",
        "      kernel = np.ones((5, 5), np.uint8)\n",
        "      hsv = cv2.cvtColor(image, cv2.COLOR_BGR2HSV)\n",
        "\n",
        "      mask1 = cv2.inRange(hsv, (0, 0, 0), (0, 0,200)) #Black\n",
        "      mask2 = cv2.inRange(hsv, (0,0,200), (255, 55, 255))\n",
        "      ## convert to hsv\n",
        "      mask = cv2.bitwise_or(mask1, mask2)\n",
        "      mask = cv2.bitwise_and(image,image, mask=mask)\n",
        "\n",
        "\n",
        "      cv2.imwrite(r'/content/drive/MyDrive/Examensarbete/Deep Blending Dataset/'+str(i)+'_mask.png', mask,(550,550))\n",
        "      \n",
        "\n",
        "Imageblending(50)\n"
      ],
      "metadata": {
        "id": "9qJyD_3JioCc"
      },
      "execution_count": null,
      "outputs": []
    }
  ]
}